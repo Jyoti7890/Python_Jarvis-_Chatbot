{
 "cells": [
  {
   "cell_type": "markdown",
   "id": "6e4250ec-b526-4390-8483-1b28561e4c70",
   "metadata": {},
   "source": [
    "#### There are 2 stages where error may happen in a program.\n",
    "- During compilation -> Syntax Error\n",
    "- During Execution-> Exceptions"
   ]
  },
  {
   "cell_type": "markdown",
   "id": "56facfd2-348d-4706-afe7-3aa78387d61c",
   "metadata": {},
   "source": [
    "#### Syntax Error\n",
    "- Something in the program is not written according to the program grammar.\n",
    "- Error is raised by the interpreter/compiler\n",
    "- You can solve it by rectifying the program."
   ]
  },
  {
   "cell_type": "code",
   "execution_count": 2,
   "id": "3ab954a8-7ed2-4a59-829c-016c58b23b10",
   "metadata": {},
   "outputs": [
    {
     "ename": "SyntaxError",
     "evalue": "Missing parentheses in call to 'print'. Did you mean print(...)? (528539990.py, line 2)",
     "output_type": "error",
     "traceback": [
      "\u001b[1;36m  Cell \u001b[1;32mIn[2], line 2\u001b[1;36m\u001b[0m\n\u001b[1;33m    print 'hello world'\u001b[0m\n\u001b[1;37m    ^\u001b[0m\n\u001b[1;31mSyntaxError\u001b[0m\u001b[1;31m:\u001b[0m Missing parentheses in call to 'print'. Did you mean print(...)?\n"
     ]
    }
   ],
   "source": [
    "# Examples of syntax error\n",
    "print 'hello world'"
   ]
  },
  {
   "cell_type": "markdown",
   "id": "6f2f61b7-e102-43e3-b3f5-bdf5d88e0f4c",
   "metadata": {},
   "source": [
    "#### Other examples of syntax error\n",
    "- Leaving symbols like colon,brackets\n",
    "- Misspelling a keyword\n",
    "- Incorrect indentation\n",
    "- empty if/else/loops/class/functions"
   ]
  },
  {
   "cell_type": "code",
   "execution_count": 4,
   "id": "10ac7a13-9b3e-47e5-8149-4dd33ebca14b",
   "metadata": {},
   "outputs": [
    {
     "ename": "SyntaxError",
     "evalue": "expected ':' (918065829.py, line 2)",
     "output_type": "error",
     "traceback": [
      "\u001b[1;36m  Cell \u001b[1;32mIn[4], line 2\u001b[1;36m\u001b[0m\n\u001b[1;33m    if a == 3\u001b[0m\n\u001b[1;37m             ^\u001b[0m\n\u001b[1;31mSyntaxError\u001b[0m\u001b[1;31m:\u001b[0m expected ':'\n"
     ]
    }
   ],
   "source": [
    "# : missing\n",
    "a = 5\n",
    "if a == 3\n",
    "    print('hello')"
   ]
  },
  {
   "cell_type": "code",
   "execution_count": 5,
   "id": "15e1206a-3374-4d39-8593-296ff54e5d1f",
   "metadata": {},
   "outputs": [
    {
     "ename": "SyntaxError",
     "evalue": "invalid syntax (2000883888.py, line 2)",
     "output_type": "error",
     "traceback": [
      "\u001b[1;36m  Cell \u001b[1;32mIn[5], line 2\u001b[1;36m\u001b[0m\n\u001b[1;33m    iff a == 3:\u001b[0m\n\u001b[1;37m        ^\u001b[0m\n\u001b[1;31mSyntaxError\u001b[0m\u001b[1;31m:\u001b[0m invalid syntax\n"
     ]
    }
   ],
   "source": [
    "# Misspelling a keyword\n",
    "a = 5\n",
    "iff a == 3:\n",
    "     print('hello')"
   ]
  },
  {
   "cell_type": "code",
   "execution_count": 6,
   "id": "00f37f1d-db7a-490a-9ed0-865467015899",
   "metadata": {},
   "outputs": [
    {
     "ename": "IndentationError",
     "evalue": "expected an indented block after 'if' statement on line 2 (3357712452.py, line 3)",
     "output_type": "error",
     "traceback": [
      "\u001b[1;36m  Cell \u001b[1;32mIn[6], line 3\u001b[1;36m\u001b[0m\n\u001b[1;33m    print('hello')\u001b[0m\n\u001b[1;37m    ^\u001b[0m\n\u001b[1;31mIndentationError\u001b[0m\u001b[1;31m:\u001b[0m expected an indented block after 'if' statement on line 2\n"
     ]
    }
   ],
   "source": [
    "# Incorrect indentation\n",
    "a=5\n",
    "if a==3:\n",
    "print('hello')"
   ]
  },
  {
   "cell_type": "code",
   "execution_count": 7,
   "id": "b08addec-46fe-480a-93f2-4c659ed04ca6",
   "metadata": {},
   "outputs": [
    {
     "ename": "IndexError",
     "evalue": "list index out of range",
     "output_type": "error",
     "traceback": [
      "\u001b[1;31m---------------------------------------------------------------------------\u001b[0m",
      "\u001b[1;31mIndexError\u001b[0m                                Traceback (most recent call last)",
      "Cell \u001b[1;32mIn[7], line 4\u001b[0m\n\u001b[0;32m      1\u001b[0m \u001b[38;5;66;03m# IndexError\u001b[39;00m\n\u001b[0;32m      2\u001b[0m \u001b[38;5;66;03m# The indexError is thrown when trying to access an item at an invalid index.\u001b[39;00m\n\u001b[0;32m      3\u001b[0m L \u001b[38;5;241m=\u001b[39m [\u001b[38;5;241m1\u001b[39m,\u001b[38;5;241m2\u001b[39m,\u001b[38;5;241m4\u001b[39m]\n\u001b[1;32m----> 4\u001b[0m L[\u001b[38;5;241m100\u001b[39m]\n",
      "\u001b[1;31mIndexError\u001b[0m: list index out of range"
     ]
    }
   ],
   "source": [
    "# IndexError\n",
    "# The indexError is thrown when trying to access an item at an invalid index.\n",
    "L = [1,2,4]\n",
    "L[100]"
   ]
  },
  {
   "cell_type": "code",
   "execution_count": 9,
   "id": "5dc661ea-eda3-4bfc-afca-920b1e143058",
   "metadata": {},
   "outputs": [
    {
     "ename": "ModuleNotFoundError",
     "evalue": "No module named 'mathe'",
     "output_type": "error",
     "traceback": [
      "\u001b[1;31m---------------------------------------------------------------------------\u001b[0m",
      "\u001b[1;31mModuleNotFoundError\u001b[0m                       Traceback (most recent call last)",
      "Cell \u001b[1;32mIn[9], line 3\u001b[0m\n\u001b[0;32m      1\u001b[0m \u001b[38;5;66;03m# ModuleNotFoundError\u001b[39;00m\n\u001b[0;32m      2\u001b[0m \u001b[38;5;66;03m# The ModuleNotFoundError is thrown when a module could not be found.\u001b[39;00m\n\u001b[1;32m----> 3\u001b[0m \u001b[38;5;28;01mimport\u001b[39;00m \u001b[38;5;21;01mmathe\u001b[39;00m\n\u001b[0;32m      4\u001b[0m math\u001b[38;5;241m.\u001b[39mfloor(\u001b[38;5;241m5.3\u001b[39m)\n",
      "\u001b[1;31mModuleNotFoundError\u001b[0m: No module named 'mathe'"
     ]
    }
   ],
   "source": [
    "# ModuleNotFoundError\n",
    "# The ModuleNotFoundError is thrown when a module could not be found.\n",
    "import mathe\n",
    "math.floor(5.3)"
   ]
  },
  {
   "cell_type": "code",
   "execution_count": 10,
   "id": "7b896e5a-01ec-471c-a44f-ea550db202b7",
   "metadata": {},
   "outputs": [
    {
     "ename": "KeyError",
     "evalue": "'age'",
     "output_type": "error",
     "traceback": [
      "\u001b[1;31m---------------------------------------------------------------------------\u001b[0m",
      "\u001b[1;31mKeyError\u001b[0m                                  Traceback (most recent call last)",
      "Cell \u001b[1;32mIn[10], line 4\u001b[0m\n\u001b[0;32m      1\u001b[0m \u001b[38;5;66;03m# KeyError\u001b[39;00m\n\u001b[0;32m      2\u001b[0m \u001b[38;5;66;03m# The KeyError is thrown when key is not found.\u001b[39;00m\n\u001b[0;32m      3\u001b[0m d \u001b[38;5;241m=\u001b[39m {\u001b[38;5;124m'\u001b[39m\u001b[38;5;124mname\u001b[39m\u001b[38;5;124m'\u001b[39m:\u001b[38;5;124m'\u001b[39m\u001b[38;5;124mnitish\u001b[39m\u001b[38;5;124m'\u001b[39m}\n\u001b[1;32m----> 4\u001b[0m d[\u001b[38;5;124m'\u001b[39m\u001b[38;5;124mage\u001b[39m\u001b[38;5;124m'\u001b[39m]\n",
      "\u001b[1;31mKeyError\u001b[0m: 'age'"
     ]
    }
   ],
   "source": [
    "# KeyError\n",
    "# The KeyError is thrown when key is not found.\n",
    "d = {'name':'nitish'}\n",
    "d['age']"
   ]
  },
  {
   "cell_type": "code",
   "execution_count": 13,
   "id": "3d48aa18-0e8f-4eb2-ab6d-538e94a0ee37",
   "metadata": {},
   "outputs": [
    {
     "ename": "TypeError",
     "evalue": "unsupported operand type(s) for +: 'int' and 'str'",
     "output_type": "error",
     "traceback": [
      "\u001b[1;31m---------------------------------------------------------------------------\u001b[0m",
      "\u001b[1;31mTypeError\u001b[0m                                 Traceback (most recent call last)",
      "Cell \u001b[1;32mIn[13], line 3\u001b[0m\n\u001b[0;32m      1\u001b[0m \u001b[38;5;66;03m# TypeError\u001b[39;00m\n\u001b[0;32m      2\u001b[0m \u001b[38;5;66;03m# The TypeError is thrown when an operation or function is applied to an object of an inappropriate type.\u001b[39;00m\n\u001b[1;32m----> 3\u001b[0m \u001b[38;5;241m1\u001b[39m\u001b[38;5;241m+\u001b[39m\u001b[38;5;124m'\u001b[39m\u001b[38;5;124ma\u001b[39m\u001b[38;5;124m'\u001b[39m\n",
      "\u001b[1;31mTypeError\u001b[0m: unsupported operand type(s) for +: 'int' and 'str'"
     ]
    }
   ],
   "source": [
    "# TypeError\n",
    "# The TypeError is thrown when an operation or function is applied to an object of an inappropriate type.\n",
    "1+'a'"
   ]
  },
  {
   "cell_type": "code",
   "execution_count": 12,
   "id": "5784a37d-3dc6-43ec-b570-91ffc9063a7c",
   "metadata": {},
   "outputs": [
    {
     "ename": "ValueError",
     "evalue": "invalid literal for int() with base 10: 'a'",
     "output_type": "error",
     "traceback": [
      "\u001b[1;31m---------------------------------------------------------------------------\u001b[0m",
      "\u001b[1;31mValueError\u001b[0m                                Traceback (most recent call last)",
      "Cell \u001b[1;32mIn[12], line 3\u001b[0m\n\u001b[0;32m      1\u001b[0m \u001b[38;5;66;03m# ValueError\u001b[39;00m\n\u001b[0;32m      2\u001b[0m \u001b[38;5;66;03m# The ValueError is thrown when a function's argument is of an inppropriate type.\u001b[39;00m\n\u001b[1;32m----> 3\u001b[0m \u001b[38;5;28mint\u001b[39m(\u001b[38;5;124m'\u001b[39m\u001b[38;5;124ma\u001b[39m\u001b[38;5;124m'\u001b[39m)\n",
      "\u001b[1;31mValueError\u001b[0m: invalid literal for int() with base 10: 'a'"
     ]
    }
   ],
   "source": [
    "# ValueError\n",
    "# The ValueError is thrown when a function's argument is of an inppropriate type.\n",
    "int('a')"
   ]
  },
  {
   "cell_type": "code",
   "execution_count": 14,
   "id": "5347f3dc-66bb-44ca-94da-9bcc78b20150",
   "metadata": {},
   "outputs": [
    {
     "ename": "NameError",
     "evalue": "name 'p' is not defined",
     "output_type": "error",
     "traceback": [
      "\u001b[1;31m---------------------------------------------------------------------------\u001b[0m",
      "\u001b[1;31mNameError\u001b[0m                                 Traceback (most recent call last)",
      "Cell \u001b[1;32mIn[14], line 3\u001b[0m\n\u001b[0;32m      1\u001b[0m \u001b[38;5;66;03m# NameError\u001b[39;00m\n\u001b[0;32m      2\u001b[0m \u001b[38;5;66;03m# The NameError is thrown when an object could not be found.\u001b[39;00m\n\u001b[1;32m----> 3\u001b[0m p(k)\n",
      "\u001b[1;31mNameError\u001b[0m: name 'p' is not defined"
     ]
    }
   ],
   "source": [
    "# NameError\n",
    "# The NameError is thrown when an object could not be found.\n",
    "p(k)"
   ]
  },
  {
   "cell_type": "code",
   "execution_count": 15,
   "id": "d5a4377f-809f-4a60-950b-cf9fb90cbb60",
   "metadata": {},
   "outputs": [
    {
     "ename": "AttributeError",
     "evalue": "'list' object has no attribute 'upper'",
     "output_type": "error",
     "traceback": [
      "\u001b[1;31m---------------------------------------------------------------------------\u001b[0m",
      "\u001b[1;31mAttributeError\u001b[0m                            Traceback (most recent call last)",
      "Cell \u001b[1;32mIn[15], line 3\u001b[0m\n\u001b[0;32m      1\u001b[0m \u001b[38;5;66;03m# AttributeError\u001b[39;00m\n\u001b[0;32m      2\u001b[0m L \u001b[38;5;241m=\u001b[39m [\u001b[38;5;241m1\u001b[39m,\u001b[38;5;241m2\u001b[39m,\u001b[38;5;241m3\u001b[39m]\n\u001b[1;32m----> 3\u001b[0m L\u001b[38;5;241m.\u001b[39mupper()\n",
      "\u001b[1;31mAttributeError\u001b[0m: 'list' object has no attribute 'upper'"
     ]
    }
   ],
   "source": [
    "# AttributeError\n",
    "L = [1,2,3]\n",
    "L.upper()\n",
    "\n",
    "\n",
    "### Stacktrace"
   ]
  },
  {
   "cell_type": "markdown",
   "id": "f2edadf2-d5c7-424f-ae8a-7847ff140c9d",
   "metadata": {},
   "source": [
    "#### Exceptions\n",
    "##### if things go wrong during the execution in of the program(runtime). It generally happens when something unforeseen has happened.\n",
    "- Exceptions are raised by python runtime\n",
    "- You have to takle is on the fly\n",
    "#### Examples\n",
    "- Memory overflow\n",
    "- Divide by 0 -> logical error\n",
    "- Database error"
   ]
  },
  {
   "cell_type": "markdown",
   "id": "6e684ef8-d42e-4954-8784-f970a15f25ba",
   "metadata": {},
   "source": [
    "##### why it is important to handle exceptions.\n",
    "- User Experience\n",
    "- security\n",
    "##### how to handle exceptions\n",
    "##### -> Try except block"
   ]
  },
  {
   "cell_type": "code",
   "execution_count": 17,
   "id": "59c72bcb-7793-4ebe-bf92-2024d86bec7b",
   "metadata": {},
   "outputs": [],
   "source": [
    "# let's create a file\n",
    "with open('sample.txt','w') as f:\n",
    "    f.write('hello world')"
   ]
  },
  {
   "cell_type": "code",
   "execution_count": 3,
   "id": "e407ec90-fc5d-4012-aa34-0f6d32b86a11",
   "metadata": {},
   "outputs": [
    {
     "name": "stdout",
     "output_type": "stream",
     "text": [
      "sorry , File not found...\n"
     ]
    }
   ],
   "source": [
    "# try except demo\n",
    "try:\n",
    "    with open('sample2.txt','r') as f:\n",
    "        print(f.read())\n",
    "except:\n",
    "    print(\"sorry , File not found...\")"
   ]
  },
  {
   "cell_type": "code",
   "execution_count": 5,
   "id": "637b4f02-61ec-4f6f-9313-b52b2d13e765",
   "metadata": {},
   "outputs": [
    {
     "name": "stdout",
     "output_type": "stream",
     "text": [
      "hello world\n",
      "some error occured\n"
     ]
    }
   ],
   "source": [
    "# catching specific exception\n",
    "try:\n",
    "    f = open('sample.txt','r')\n",
    "    print(f.read())\n",
    "    print(m)\n",
    "    \n",
    "except:\n",
    "    print(\"some error occured\")\n",
    "    \n"
   ]
  },
  {
   "cell_type": "code",
   "execution_count": 7,
   "id": "de475e54-31d0-412d-9166-19e29740877e",
   "metadata": {},
   "outputs": [
    {
     "name": "stdout",
     "output_type": "stream",
     "text": [
      "hello world\n",
      "<built-in method with_traceback of NameError object at 0x0000029F052B7880>\n"
     ]
    }
   ],
   "source": [
    "try:\n",
    "    f = open('sample.txt','r')\n",
    "    print(f.read())\n",
    "    print(m)\n",
    "except Exception as e:\n",
    "    print(e.with_traceback)"
   ]
  },
  {
   "cell_type": "code",
   "execution_count": 17,
   "id": "69978c22-3a72-47ab-b578-230d75968aa9",
   "metadata": {},
   "outputs": [
    {
     "name": "stdout",
     "output_type": "stream",
     "text": [
      "hello world\n",
      "5\n",
      "2.5\n",
      "list index out of range\n"
     ]
    }
   ],
   "source": [
    "try:\n",
    "    m = 5\n",
    "    f = open('sample.txt','r')\n",
    "    print(f.read())\n",
    "    print(m)\n",
    "    print(5/2)\n",
    "    L = [2,4]\n",
    "    L [100]\n",
    "except FileNotFoundError:\n",
    "    print('file not found..')\n",
    "except NameError:\n",
    "    print('variable not decalared')\n",
    "except ZeroDivisionError:\n",
    "    print(\"can't divide by zero\")\n",
    "except Exception as e: # Generic Exception block\n",
    "    print(e)"
   ]
  },
  {
   "cell_type": "code",
   "execution_count": 24,
   "id": "22a94036-0d52-4143-ac54-7f720ad2ac6f",
   "metadata": {},
   "outputs": [
    {
     "name": "stdout",
     "output_type": "stream",
     "text": [
      "hello world\n"
     ]
    }
   ],
   "source": [
    "# else\n",
    "try:\n",
    "    f = open('sample.txt','r')    \n",
    "except FileNotFoundError:\n",
    "    print('File is not found....')\n",
    "except Exception as e:\n",
    "    print(e)\n",
    "else:\n",
    "    print(f.read())"
   ]
  },
  {
   "cell_type": "code",
   "execution_count": 26,
   "id": "ca05b2ba-fbfc-476c-af13-dc804e98bfcf",
   "metadata": {},
   "outputs": [
    {
     "name": "stdout",
     "output_type": "stream",
     "text": [
      "File is not found...\n",
      "This code will execute in any case...\n"
     ]
    }
   ],
   "source": [
    "# finally\n",
    "try:\n",
    "    f = open('sample2.txt','r')\n",
    "except FileNotFoundError:\n",
    "    print('File is not found...')\n",
    "except Exception as e:\n",
    "    print(e)\n",
    "else:\n",
    "    print(f.read())a\n",
    "finally:\n",
    "    print('This code will execute in any case...')"
   ]
  },
  {
   "cell_type": "code",
   "execution_count": null,
   "id": "32e460bf-f00a-402f-ae15-0d69c9f7d70e",
   "metadata": {},
   "outputs": [],
   "source": [
    "# raise Exception\n",
    "# In Python programming,exceptions are raised when errors occur at runtime.\n",
    "# We can also manually raise exceptions using the raise keyword.\n",
    "\n",
    "# We can optionally pass values to the exception to clarify why that exception was raised."
   ]
  },
  {
   "cell_type": "code",
   "execution_count": 28,
   "id": "3ddc934e-c761-4321-99e4-cf0d013d4cde",
   "metadata": {},
   "outputs": [
    {
     "ename": "ModuleNotFoundError",
     "evalue": "aise hi try kar rhi hu",
     "output_type": "error",
     "traceback": [
      "\u001b[1;31m---------------------------------------------------------------------------\u001b[0m",
      "\u001b[1;31mModuleNotFoundError\u001b[0m                       Traceback (most recent call last)",
      "Cell \u001b[1;32mIn[28], line 1\u001b[0m\n\u001b[1;32m----> 1\u001b[0m \u001b[38;5;28;01mraise\u001b[39;00m \u001b[38;5;167;01mModuleNotFoundError\u001b[39;00m(\u001b[38;5;124m'\u001b[39m\u001b[38;5;124maise hi try kar rhi hu\u001b[39m\u001b[38;5;124m'\u001b[39m)\n",
      "\u001b[1;31mModuleNotFoundError\u001b[0m: aise hi try kar rhi hu"
     ]
    }
   ],
   "source": [
    "raise ModuleNotFoundError('aise hi try kar rhi hu')\n",
    "# in java programming\n",
    "# try -> try\n",
    "# except -> catch\n",
    "# raise -> throw"
   ]
  },
  {
   "cell_type": "code",
   "execution_count": 30,
   "id": "f9ebc578-0f92-4592-beb0-099893929c0d",
   "metadata": {},
   "outputs": [
    {
     "name": "stdout",
     "output_type": "stream",
     "text": [
      "paise nhi h tere pass\n"
     ]
    }
   ],
   "source": [
    "class Bank:\n",
    "    def __init__(self,balance):\n",
    "        self.balance = balance\n",
    "    def withdraw(self,amount):\n",
    "        if amount < 0:\n",
    "            raise Exception('amount cannot be -ve')\n",
    "        if self.balance < amount:\n",
    "            raise Exception('paise nhi h tere pass')\n",
    "        self.balance = self.balance - amount\n",
    "obj = Bank(1000)\n",
    "try:\n",
    "    obj.withdraw(150000)\n",
    "except Exception as e:\n",
    "    print(e)\n",
    "else:\n",
    "    print(obj.balance)       "
   ]
  },
  {
   "cell_type": "code",
   "execution_count": 33,
   "id": "68f9db39-fd07-4aad-86aa-02ac887560e8",
   "metadata": {},
   "outputs": [
    {
     "name": "stdout",
     "output_type": "stream",
     "text": [
      "paise nhi h tere hei pass\n"
     ]
    }
   ],
   "source": [
    "class MyException(Exception):\n",
    "    def __init__(self,message):\n",
    "        print(message)\n",
    "class Bank:\n",
    "    def __init__(self,balance):\n",
    "        self.balance = balance\n",
    "    def withdraw(self,amount):\n",
    "        if amount < 0:\n",
    "            raise MyException('amount cannot be -ve')\n",
    "        if self.balance < amount:\n",
    "            raise MyException('paise nhi h tere hei pass')\n",
    "        self.balance = self.balance - amount\n",
    "obj = Bank(1000)\n",
    "try:\n",
    "    obj.withdraw(20000)\n",
    "except MyException as e:\n",
    "    pass\n",
    "else:\n",
    "    print(obj.balance)"
   ]
  },
  {
   "cell_type": "code",
   "execution_count": null,
   "id": "e40aee4e-4c03-433a-99ec-6f999995949f",
   "metadata": {},
   "outputs": [],
   "source": [
    "# creating custom exceptions\n",
    "# exception hierarchy in python"
   ]
  },
  {
   "cell_type": "code",
   "execution_count": 36,
   "id": "ebbff888-0533-4aad-bc9a-004fcf33f53a",
   "metadata": {},
   "outputs": [
    {
     "name": "stdout",
     "output_type": "stream",
     "text": [
      "something error will occurred....\n",
      "logout...\n",
      "database connection closed...\n"
     ]
    }
   ],
   "source": [
    "# simple example\n",
    "class SecurityError(Exception):\n",
    "    def __init__(self,message):\n",
    "        print(message)\n",
    "        \n",
    "    def logout(self):\n",
    "        print('logout...')\n",
    "        \n",
    "class Google:\n",
    "    def __init__(self,name,email,password,device):\n",
    "        self.name = name\n",
    "        self.email = email\n",
    "        self.password = password\n",
    "        self.device = device\n",
    "        \n",
    "    def login(self,email,password,device):\n",
    "        if device != self.device:\n",
    "            raise SecurityError('something error will occurred....')\n",
    "        if email == self.email and password == self.password:\n",
    "            print('welcome')\n",
    "        else:\n",
    "            print('login error')\n",
    "        \n",
    "obj = Google('nitish','nitish@gmail.com','1234','android')\n",
    "\n",
    "try:\n",
    "    obj.login('nitish@gmail.com','1234','window')\n",
    "except SecurityError as e:\n",
    "    e.logout()\n",
    "else:\n",
    "    print(obj.name)\n",
    "finally:\n",
    "    print('database connection closed...')"
   ]
  },
  {
   "cell_type": "markdown",
   "id": "65cd0c52-5388-416e-a982-968da4fa3b9c",
   "metadata": {},
   "source": [
    "#### NameSpaces\n",
    "    - A namespace is a space that holds the names(identifiers). Programmatically speaking,namespaces are dictionary of identifiers(keys) and their objects(values)\n",
    "    \n",
    "    - There are 4 types of namespaces:\n",
    "- Builtin NameSpace\n",
    "- Global NameSpace\n",
    "- Enclosing NameSpace\n",
    "- Local NameSpace"
   ]
  },
  {
   "cell_type": "markdown",
   "id": "a748a432-0fc8-4f2c-8f71-a5bcf6036b39",
   "metadata": {},
   "source": [
    "#### Scope and LEGB\n",
    "    - A scope is a textual region of a Python program where a namespace is directly accessible.\n",
    "    - The interpreter searches for a name from the inside out,looking in the local, enclosing, global,and finally the built-in scope.If the interpreter doesn't find the name in any of these locations, then Python raises a NameError exception. "
   ]
  },
  {
   "cell_type": "code",
   "execution_count": 1,
   "id": "73f250bc-aada-4ff9-99d5-9916153927b0",
   "metadata": {},
   "outputs": [
    {
     "name": "stdout",
     "output_type": "stream",
     "text": [
      "3\n",
      "2\n"
     ]
    }
   ],
   "source": [
    "# local and global\n",
    "a = 2 # global variable\n",
    "\n",
    "def temp():\n",
    "    # local variable\n",
    "    b = 3\n",
    "    print(b)\n",
    "\n",
    "temp()\n",
    "print(a)"
   ]
  },
  {
   "cell_type": "code",
   "execution_count": 3,
   "id": "1d52c878-405a-4357-9dc0-5149e9508ab8",
   "metadata": {},
   "outputs": [
    {
     "name": "stdout",
     "output_type": "stream",
     "text": [
      "3\n",
      "2\n"
     ]
    }
   ],
   "source": [
    "# local and global -> same name\n",
    "a = 2 # global variable\n",
    "\n",
    "def temp():\n",
    "    # local variable\n",
    "    a = 3\n",
    "    print(a)\n",
    "\n",
    "temp()\n",
    "print(a)"
   ]
  },
  {
   "cell_type": "code",
   "execution_count": 6,
   "id": "9262305f-ce61-4cc2-a898-780adef7ad6a",
   "metadata": {},
   "outputs": [
    {
     "name": "stdout",
     "output_type": "stream",
     "text": [
      "2\n",
      "2\n"
     ]
    }
   ],
   "source": [
    "# local and global -> local does not have but global has\n",
    "a = 2 # global variable\n",
    "\n",
    "def temp():\n",
    "    # local variable\n",
    "    print(a)\n",
    "\n",
    "temp()\n",
    "print(a)"
   ]
  },
  {
   "cell_type": "code",
   "execution_count": 8,
   "id": "3258dfa2-7b08-4c6b-ae89-1733e10c27bc",
   "metadata": {},
   "outputs": [
    {
     "name": "stdout",
     "output_type": "stream",
     "text": [
      "3\n",
      "3\n"
     ]
    }
   ],
   "source": [
    "# local and global -> editing global\n",
    "a = 2# global var\n",
    "\n",
    "def temp():\n",
    "    global a\n",
    "    a+= 1\n",
    "    print(a)\n",
    "temp()\n",
    "print(a)"
   ]
  },
  {
   "cell_type": "code",
   "execution_count": 9,
   "id": "10bfba4d-c4fa-4bdb-8498-5a90beedadc1",
   "metadata": {},
   "outputs": [
    {
     "name": "stdout",
     "output_type": "stream",
     "text": [
      "1\n",
      "1\n"
     ]
    }
   ],
   "source": [
    "# local and global -> global created inside local\n",
    "def temp():\n",
    "    # local var\n",
    "    global a\n",
    "    a = 1\n",
    "    print(a)\n",
    "    \n",
    "temp()\n",
    "print(a)"
   ]
  },
  {
   "cell_type": "code",
   "execution_count": 10,
   "id": "cd1124ca-054d-4727-9517-243415bf094e",
   "metadata": {},
   "outputs": [
    {
     "name": "stdout",
     "output_type": "stream",
     "text": [
      "5\n",
      "5\n"
     ]
    }
   ],
   "source": [
    "# local and global -> function parameter is local\n",
    "\n",
    "def temp(z):\n",
    "    print(z)\n",
    "\n",
    "a = 5\n",
    "temp(5)\n",
    "print(a)"
   ]
  },
  {
   "cell_type": "code",
   "execution_count": null,
   "id": "f5a9b675-2b11-40d2-8cee-0b5d4f95143d",
   "metadata": {},
   "outputs": [],
   "source": [
    "# built-in scope\n",
    "print('hello')"
   ]
  },
  {
   "cell_type": "code",
   "execution_count": 11,
   "id": "4d78032f-ecf0-40ae-bced-f97b7a91bcb1",
   "metadata": {},
   "outputs": [
    {
     "name": "stdout",
     "output_type": "stream",
     "text": [
      "['ArithmeticError', 'AssertionError', 'AttributeError', 'BaseException', 'BaseExceptionGroup', 'BlockingIOError', 'BrokenPipeError', 'BufferError', 'BytesWarning', 'ChildProcessError', 'ConnectionAbortedError', 'ConnectionError', 'ConnectionRefusedError', 'ConnectionResetError', 'DeprecationWarning', 'EOFError', 'Ellipsis', 'EncodingWarning', 'EnvironmentError', 'Exception', 'ExceptionGroup', 'False', 'FileExistsError', 'FileNotFoundError', 'FloatingPointError', 'FutureWarning', 'GeneratorExit', 'IOError', 'ImportError', 'ImportWarning', 'IndentationError', 'IndexError', 'InterruptedError', 'IsADirectoryError', 'KeyError', 'KeyboardInterrupt', 'LookupError', 'MemoryError', 'ModuleNotFoundError', 'NameError', 'None', 'NotADirectoryError', 'NotImplemented', 'NotImplementedError', 'OSError', 'OverflowError', 'PendingDeprecationWarning', 'PermissionError', 'ProcessLookupError', 'RecursionError', 'ReferenceError', 'ResourceWarning', 'RuntimeError', 'RuntimeWarning', 'StopAsyncIteration', 'StopIteration', 'SyntaxError', 'SyntaxWarning', 'SystemError', 'SystemExit', 'TabError', 'TimeoutError', 'True', 'TypeError', 'UnboundLocalError', 'UnicodeDecodeError', 'UnicodeEncodeError', 'UnicodeError', 'UnicodeTranslateError', 'UnicodeWarning', 'UserWarning', 'ValueError', 'Warning', 'WindowsError', 'ZeroDivisionError', '__IPYTHON__', '__build_class__', '__debug__', '__doc__', '__import__', '__loader__', '__name__', '__package__', '__spec__', 'abs', 'aiter', 'all', 'anext', 'any', 'ascii', 'bin', 'bool', 'breakpoint', 'bytearray', 'bytes', 'callable', 'chr', 'classmethod', 'compile', 'complex', 'copyright', 'credits', 'delattr', 'dict', 'dir', 'display', 'divmod', 'enumerate', 'eval', 'exec', 'execfile', 'filter', 'float', 'format', 'frozenset', 'get_ipython', 'getattr', 'globals', 'hasattr', 'hash', 'help', 'hex', 'id', 'input', 'int', 'isinstance', 'issubclass', 'iter', 'len', 'license', 'list', 'locals', 'map', 'max', 'memoryview', 'min', 'next', 'object', 'oct', 'open', 'ord', 'pow', 'print', 'property', 'range', 'repr', 'reversed', 'round', 'runfile', 'set', 'setattr', 'slice', 'sorted', 'staticmethod', 'str', 'sum', 'super', 'tuple', 'type', 'vars', 'zip']\n"
     ]
    }
   ],
   "source": [
    "# how to see all the built-ins\n",
    "import builtins\n",
    "print(dir(builtins))"
   ]
  },
  {
   "cell_type": "code",
   "execution_count": 28,
   "id": "9010fa64-0711-47f3-9228-88e0d469d825",
   "metadata": {},
   "outputs": [
    {
     "name": "stdout",
     "output_type": "stream",
     "text": [
      "6\n",
      "hello\n",
      "None\n"
     ]
    }
   ],
   "source": [
    "# renaming built-ins\n",
    "L = [1,2,3]\n",
    "print(sum(L))\n",
    "def sum():\n",
    "    print('hello')\n",
    "print(sum())"
   ]
  },
  {
   "cell_type": "code",
   "execution_count": 23,
   "id": "cfa0a301-fa31-4f43-afc4-ecef8ea7cd2a",
   "metadata": {},
   "outputs": [
    {
     "name": "stdout",
     "output_type": "stream",
     "text": [
      "inner function\n",
      "outer function\n",
      "main program\n"
     ]
    }
   ],
   "source": [
    "# Enclosing scope\n",
    "def outer():\n",
    "    def inner():\n",
    "        print('inner function') # inner function called local scope or last scope called local scope\n",
    "    inner()\n",
    "    print('outer function') # outer function called non - local or enclosing scope\n",
    "outer()\n",
    "print('main program') # main program called global scope"
   ]
  },
  {
   "cell_type": "code",
   "execution_count": 7,
   "id": "38836e3d-6dfe-4a34-a406-dca26697cdfb",
   "metadata": {},
   "outputs": [
    {
     "name": "stdout",
     "output_type": "stream",
     "text": [
      "4\n",
      "outer function\n",
      "main program\n"
     ]
    }
   ],
   "source": [
    "def outer():\n",
    "    a = 3\n",
    "    def inner():\n",
    "        a = 4\n",
    "        print(a)\n",
    "    inner()\n",
    "    print('outer function')\n",
    "a = 1\n",
    "outer()\n",
    "print('main program')"
   ]
  },
  {
   "cell_type": "code",
   "execution_count": 8,
   "id": "a0e1efd3-7ee7-4223-8b6c-30f4e129a344",
   "metadata": {},
   "outputs": [
    {
     "name": "stdout",
     "output_type": "stream",
     "text": [
      "inner 2\n",
      "outer 2\n",
      "main program\n"
     ]
    }
   ],
   "source": [
    "# nonlocal keyword\n",
    "def outer():\n",
    "    a = 1\n",
    "    def inner():\n",
    "        nonlocal a\n",
    "        a += 1\n",
    "        print('inner',a)\n",
    "    inner()\n",
    "    print('outer',a)\n",
    "    \n",
    "outer()\n",
    "print('main program')"
   ]
  },
  {
   "cell_type": "code",
   "execution_count": null,
   "id": "124a7197-7d8c-4c76-9d46-c4e75275901e",
   "metadata": {},
   "outputs": [],
   "source": [
    "# summary"
   ]
  },
  {
   "cell_type": "markdown",
   "id": "273f20c9-5b05-464f-9b07-3bf3c7b8e113",
   "metadata": {},
   "source": [
    "#### Decorators\n",
    "    - A decorator in python is a function that receives another function as input and adds some functionality(decoration) to it and returns it.\n",
    "    This can happen only because python functions are 1st class citizens.\n",
    "    There are 2 types of decorators available in python.\n",
    "- Built in decorators like @staticmethod , @classmethod, @abstractmethod and @property etc\n",
    "- User defined decorators that we programmers can create according to our needs."
   ]
  },
  {
   "cell_type": "code",
   "execution_count": 29,
   "id": "22d25c71-c76d-4a12-a2bf-1523c0c52d5a",
   "metadata": {},
   "outputs": [
    {
     "name": "stdout",
     "output_type": "stream",
     "text": [
      "hello\n"
     ]
    }
   ],
   "source": [
    "# Python are 1st class function\n",
    "def func():\n",
    "    print('hello')\n",
    "a = func\n",
    "a()"
   ]
  },
  {
   "cell_type": "code",
   "execution_count": 30,
   "id": "c95337d8-fbcb-44f0-93ec-a2cb308ba8e9",
   "metadata": {},
   "outputs": [
    {
     "ename": "NameError",
     "evalue": "name 'func' is not defined",
     "output_type": "error",
     "traceback": [
      "\u001b[1;31m---------------------------------------------------------------------------\u001b[0m",
      "\u001b[1;31mNameError\u001b[0m                                 Traceback (most recent call last)",
      "Cell \u001b[1;32mIn[30], line 4\u001b[0m\n\u001b[0;32m      2\u001b[0m     \u001b[38;5;28mprint\u001b[39m(\u001b[38;5;124m'\u001b[39m\u001b[38;5;124mhello\u001b[39m\u001b[38;5;124m'\u001b[39m)\n\u001b[0;32m      3\u001b[0m \u001b[38;5;28;01mdel\u001b[39;00m func\n\u001b[1;32m----> 4\u001b[0m func()\n",
      "\u001b[1;31mNameError\u001b[0m: name 'func' is not defined"
     ]
    }
   ],
   "source": [
    "def func():\n",
    "    print('hello')\n",
    "del func\n",
    "func()"
   ]
  },
  {
   "cell_type": "code",
   "execution_count": 1,
   "id": "110a72f0-dc2c-41af-bae4-89d3c055726d",
   "metadata": {},
   "outputs": [
    {
     "data": {
      "text/plain": [
       "4"
      ]
     },
     "execution_count": 1,
     "metadata": {},
     "output_type": "execute_result"
    }
   ],
   "source": [
    "def modify(func,num): # decorator\n",
    "    return func(num)\n",
    "    \n",
    "def square(num): # input\n",
    "    return num**2\n",
    "\n",
    "modify(square,2)"
   ]
  },
  {
   "cell_type": "code",
   "execution_count": null,
   "id": "32b9c7a4-3623-4395-8cbe-e8ac68049122",
   "metadata": {},
   "outputs": [],
   "source": [
    "# simple example"
   ]
  },
  {
   "cell_type": "code",
   "execution_count": 5,
   "id": "b978e358-0aad-4b25-aa7a-904ca82ef141",
   "metadata": {},
   "outputs": [
    {
     "name": "stdout",
     "output_type": "stream",
     "text": [
      "********************\n",
      "hello\n",
      "********************\n",
      "********************\n",
      "hello nitish\n",
      "********************\n"
     ]
    }
   ],
   "source": [
    "def my_decorator(func): # this property is called closure in python...\n",
    "    def wrapper():\n",
    "        print('********************')\n",
    "        func()\n",
    "        print('********************')\n",
    "    return wrapper\n",
    "        \n",
    "def hello():\n",
    "    print('hello')\n",
    "def display():\n",
    "    print('hello nitish')\n",
    "    \n",
    "a = my_decorator(hello)\n",
    "a()\n",
    "b = my_decorator(display)\n",
    "b()"
   ]
  },
  {
   "cell_type": "code",
   "execution_count": 6,
   "id": "3e83c61b-6977-4598-9811-f7f792868bff",
   "metadata": {},
   "outputs": [
    {
     "name": "stdout",
     "output_type": "stream",
     "text": [
      "5\n"
     ]
    }
   ],
   "source": [
    "def outer():\n",
    "    a = 5\n",
    "    def inner():\n",
    "        print(a)\n",
    "    return inner\n",
    "a = outer()\n",
    "a()"
   ]
  },
  {
   "cell_type": "code",
   "execution_count": 8,
   "id": "cbd7ff51-d3e9-4fee-9108-f8c91f6fdbb9",
   "metadata": {},
   "outputs": [
    {
     "name": "stdout",
     "output_type": "stream",
     "text": [
      "***************\n",
      "hello\n",
      "***************\n"
     ]
    }
   ],
   "source": [
    "# Better Syntax\n",
    "def my_decorator(func):\n",
    "    def wrapper():\n",
    "        print('***************')\n",
    "        func()\n",
    "        print('***************')\n",
    "    return wrapper\n",
    "@my_decorator\n",
    "def hello():\n",
    "    print('hello')\n",
    "\n",
    "hello()"
   ]
  },
  {
   "cell_type": "code",
   "execution_count": 11,
   "id": "fcdf3185-b5a8-4cee-9d51-0338f65b9edb",
   "metadata": {},
   "outputs": [
    {
     "name": "stdout",
     "output_type": "stream",
     "text": [
      "hello world\n",
      "time taken by function hello 2.004117012023926\n",
      "displaying ...\n",
      "time taken by function display 2.001225471496582\n"
     ]
    }
   ],
   "source": [
    "# anything meaningful?\n",
    "import time\n",
    "def timer(func):\n",
    "    def wrapper():\n",
    "        start = time.time()\n",
    "        func()\n",
    "        print('time taken by function',func.__name__,time.time()-start)\n",
    "    return wrapper\n",
    "@timer\n",
    "def hello():\n",
    "    print('hello world')\n",
    "    time.sleep(2)\n",
    "@timer\n",
    "def display():\n",
    "    print('displaying ...')\n",
    "    time.sleep(2)\n",
    "\n",
    "\n",
    "hello()   \n",
    "display()"
   ]
  },
  {
   "cell_type": "code",
   "execution_count": 14,
   "id": "0590b4a9-14cc-41ef-a030-6d9c8599a9d6",
   "metadata": {},
   "outputs": [
    {
     "ename": "TypeError",
     "evalue": "timer.<locals>.wrapper() takes 0 positional arguments but 1 was given",
     "output_type": "error",
     "traceback": [
      "\u001b[1;31m---------------------------------------------------------------------------\u001b[0m",
      "\u001b[1;31mTypeError\u001b[0m                                 Traceback (most recent call last)",
      "Cell \u001b[1;32mIn[14], line 15\u001b[0m\n\u001b[0;32m     12\u001b[0m     time\u001b[38;5;241m.\u001b[39msleep(\u001b[38;5;241m1\u001b[39m)\n\u001b[0;32m     13\u001b[0m     \u001b[38;5;28;01mreturn\u001b[39;00m num\u001b[38;5;241m*\u001b[39m\u001b[38;5;241m*\u001b[39m\u001b[38;5;241m2\u001b[39m\n\u001b[1;32m---> 15\u001b[0m square(\u001b[38;5;241m2\u001b[39m)\n",
      "\u001b[1;31mTypeError\u001b[0m: timer.<locals>.wrapper() takes 0 positional arguments but 1 was given"
     ]
    }
   ],
   "source": [
    "# A big problem\n",
    "import time\n",
    "def timer(func):\n",
    "    def wrapper():\n",
    "        start = time.time()\n",
    "        func()\n",
    "        print('time taken by function',func.__name__,time.time()-start)\n",
    "    return wrapper\n",
    "\n",
    "@timer\n",
    "def square(num):\n",
    "    time.sleep(1)\n",
    "    return num**2\n",
    "\n",
    "square(2)"
   ]
  },
  {
   "cell_type": "code",
   "execution_count": 18,
   "id": "a5d7f48c-7e73-486c-8a37-f6c05bc39d14",
   "metadata": {},
   "outputs": [
    {
     "name": "stdout",
     "output_type": "stream",
     "text": [
      "4\n",
      "time taken by function square 1.0067667961120605\n",
      "hello world\n",
      "time taken by function hello 2.002009868621826\n",
      "displaying ...\n",
      "time taken by function display 2.001100540161133\n",
      "8\n",
      "time taken by function power 2.001014232635498\n"
     ]
    }
   ],
   "source": [
    "import time\n",
    "def timer(func):\n",
    "    def wrapper(*args):\n",
    "        start = time.time()\n",
    "        func(*args)\n",
    "        print('time taken by function',func.__name__,time.time()-start)\n",
    "    return wrapper\n",
    "\n",
    "@timer\n",
    "def square(num):\n",
    "    time.sleep(1)\n",
    "    print(num**2)\n",
    "\n",
    "@timer\n",
    "def hello():\n",
    "    print('hello world')\n",
    "    time.sleep(2)\n",
    "\n",
    "@timer\n",
    "def display():\n",
    "    print('displaying ...')\n",
    "    time.sleep(2)\n",
    "\n",
    "@timer\n",
    "def power(a,b):\n",
    "    print(a**b)\n",
    "    time.sleep(2)\n",
    "\n",
    "square(2)\n",
    "\n",
    "hello()   \n",
    "display()\n",
    "power(2,3)"
   ]
  },
  {
   "cell_type": "code",
   "execution_count": 31,
   "id": "919eaf1f-3314-407f-8bd0-fca252df4b6b",
   "metadata": {},
   "outputs": [
    {
     "name": "stdout",
     "output_type": "stream",
     "text": [
      "hello jyoti\n",
      "64\n"
     ]
    }
   ],
   "source": [
    "def sanity_check(data_type):\n",
    "    def outer_wrapper(func):\n",
    "        def inner_wrapper(*args):\n",
    "            if isinstance(args[0], data_type):  # Use isinstance for better flexibility\n",
    "                return func(*args)\n",
    "            else:\n",
    "                raise TypeError(f\"This datatype is incorrect. Expected {data_type}, got {type(args[0])}\")\n",
    "        return inner_wrapper\n",
    "    return outer_wrapper\n",
    "\n",
    "@sanity_check(int)\n",
    "def square(num):\n",
    "    print(num**2)\n",
    "\n",
    "@sanity_check(str)\n",
    "def greet(name):\n",
    "    print('hello', name)\n",
    "\n",
    "greet('jyoti')  \n",
    "square(8)\n"
   ]
  },
  {
   "cell_type": "code",
   "execution_count": null,
   "id": "07252973-6676-4de9-b84e-e9a3e13a7e35",
   "metadata": {},
   "outputs": [],
   "source": []
  },
  {
   "cell_type": "code",
   "execution_count": null,
   "id": "97d92a95-48a9-44b6-8f60-3a8b4020360c",
   "metadata": {},
   "outputs": [],
   "source": []
  },
  {
   "cell_type": "code",
   "execution_count": null,
   "id": "2f09c39d-b618-4f6a-9571-f249a3f17a66",
   "metadata": {},
   "outputs": [],
   "source": []
  },
  {
   "cell_type": "code",
   "execution_count": null,
   "id": "91db40c1-fdaf-42f9-9feb-72673dd3c8ae",
   "metadata": {},
   "outputs": [],
   "source": []
  }
 ],
 "metadata": {
  "kernelspec": {
   "display_name": "Python 3 (ipykernel)",
   "language": "python",
   "name": "python3"
  },
  "language_info": {
   "codemirror_mode": {
    "name": "ipython",
    "version": 3
   },
   "file_extension": ".py",
   "mimetype": "text/x-python",
   "name": "python",
   "nbconvert_exporter": "python",
   "pygments_lexer": "ipython3",
   "version": "3.12.4"
  }
 },
 "nbformat": 4,
 "nbformat_minor": 5
}
